{
 "cells": [
  {
   "cell_type": "code",
   "execution_count": 15,
   "id": "cec5f449-a367-4c10-bb63-4a4ed7bd7ee0",
   "metadata": {},
   "outputs": [],
   "source": [
    "import cv2\n",
    "import numpy as np"
   ]
  },
  {
   "cell_type": "code",
   "execution_count": 37,
   "id": "8642927c-7aa3-481c-a75f-e2dd255a0a16",
   "metadata": {},
   "outputs": [],
   "source": [
    "image=cv2.imread(r\"C:\\Users\\91905\\OneDrive\\Desktop\\INNOMATICS\\ML\\Hugging face images\\Rohee.jpg\")"
   ]
  },
  {
   "cell_type": "code",
   "execution_count": 41,
   "id": "8930d1ba-36d9-4420-856a-bfdd7e0f919f",
   "metadata": {},
   "outputs": [],
   "source": [
    "cv2.imshow(\"Rohee\",image)\n",
    "cv2.waitKey(0)\n",
    "cv2.destroyAllWindows()"
   ]
  },
  {
   "cell_type": "markdown",
   "id": "79d392a0-49a5-4d09-99ee-4296dcd746fa",
   "metadata": {},
   "source": [
    "## Translation/Shifting"
   ]
  },
  {
   "cell_type": "code",
   "execution_count": 44,
   "id": "a2a5615e-cab5-442e-aa98-160c706fa5eb",
   "metadata": {},
   "outputs": [],
   "source": [
    "tx=20\n",
    "ty=0\n",
    "T=np.array([[1,0,tx],[0,1,ty]],dtype=np.float32)"
   ]
  },
  {
   "cell_type": "code",
   "execution_count": 46,
   "id": "2e29c803-00f7-46ba-b23d-ca4f3c549937",
   "metadata": {},
   "outputs": [],
   "source": [
    "w,h=image.shape[:2]"
   ]
  },
  {
   "cell_type": "code",
   "execution_count": 50,
   "id": "71cf1712-2288-4dee-9037-daba5caa4f0b",
   "metadata": {},
   "outputs": [],
   "source": [
    "trans_image=cv2.warpAffine(src=image,M=T,dsize=(h,w),borderMode=cv2.BORDER_REFLECT)\n",
    "cv2.imshow(\"Rohee\",image)\n",
    "cv2.imshow(\"Transalation\",image)\n",
    "cv2.waitKey(0)\n",
    "cv2.destroyAllWindows()"
   ]
  },
  {
   "cell_type": "code",
   "execution_count": 35,
   "id": "3f897410-3786-4e7c-bce8-89cacb8f04d0",
   "metadata": {},
   "outputs": [],
   "source": [
    "trans_image=cv2.warpAffine(src=image,M=T,dsize=(h,w),borderMode=cv2.BORDER_CONSTANT,borderValue=(0,0,255))\n",
    "cv2.imshow(\"Car\",image)\n",
    "cv2.imshow(\"Transalation\",image)\n",
    "cv2.waitKey(0)\n",
    "cv2.destroyAllWindows()"
   ]
  },
  {
   "cell_type": "markdown",
   "id": "f8a03740-2113-4ad4-99cb-7ec4c8db0fba",
   "metadata": {},
   "source": [
    "## Rotation"
   ]
  },
  {
   "cell_type": "code",
   "execution_count": 53,
   "id": "1b7a8612-620d-4702-acef-c8ab78c6b54e",
   "metadata": {},
   "outputs": [],
   "source": [
    "tx=0\n",
    "ty=0\n",
    "angle=0\n",
    "r_matrix=np.array([[np.cos(angle),np.sin(angle),tx],[-np.sin(angle),np.cos(angle),ty]])"
   ]
  },
  {
   "cell_type": "code",
   "execution_count": 55,
   "id": "44cfb9b5-a49f-44d9-b445-f4d299ff0793",
   "metadata": {},
   "outputs": [],
   "source": [
    "w,h=image.shape[:2]"
   ]
  },
  {
   "cell_type": "code",
   "execution_count": 57,
   "id": "7288e30c-ba41-4cce-b9ad-5e14c55c66a0",
   "metadata": {},
   "outputs": [
    {
     "data": {
      "text/plain": [
       "112"
      ]
     },
     "execution_count": 57,
     "metadata": {},
     "output_type": "execute_result"
    }
   ],
   "source": [
    "w//2"
   ]
  },
  {
   "cell_type": "code",
   "execution_count": 64,
   "id": "f08f386c-8104-4e19-b404-00e5bd50036a",
   "metadata": {},
   "outputs": [],
   "source": [
    "r_m=cv2.getRotationMatrix2D(center=(h//2,w//2),angle=-90,scale=1)\n",
    "r_m=cv2.warpAffine(src=image,M=r_m,dsize=(h,w))\n",
    "cv2.imshow(\"Rohee\",image)\n",
    "cv2.imshow(\"Rotated\",image)\n",
    "cv2.waitKey(0)\n",
    "cv2.destroyAllWindows()"
   ]
  },
  {
   "cell_type": "code",
   "execution_count": 71,
   "id": "64e54df6-1b87-4c82-acaa-9fea54cf506e",
   "metadata": {},
   "outputs": [
    {
     "ename": "error",
     "evalue": "OpenCV(4.11.0) D:\\a\\opencv-python\\opencv-python\\opencv\\modules\\imgproc\\src\\imgwarp.cpp:2819: error: (-215:Assertion failed) (M0.type() == CV_32F || M0.type() == CV_64F) && M0.rows == 2 && M0.cols == 3 in function 'cv::warpAffine'\n",
     "output_type": "error",
     "traceback": [
      "\u001b[1;31m---------------------------------------------------------------------------\u001b[0m",
      "\u001b[1;31merror\u001b[0m                                     Traceback (most recent call last)",
      "Cell \u001b[1;32mIn[71], line 2\u001b[0m\n\u001b[0;32m      1\u001b[0m rot_img\u001b[38;5;241m=\u001b[39mcv2\u001b[38;5;241m.\u001b[39mrotate(image,cv2\u001b[38;5;241m.\u001b[39mROTATE_180)\n\u001b[1;32m----> 2\u001b[0m r_m\u001b[38;5;241m=\u001b[39mcv2\u001b[38;5;241m.\u001b[39mwarpAffine(src\u001b[38;5;241m=\u001b[39mimage,M\u001b[38;5;241m=\u001b[39mr_m,dsize\u001b[38;5;241m=\u001b[39m(h,w))\n\u001b[0;32m      3\u001b[0m cv2\u001b[38;5;241m.\u001b[39mimshow(\u001b[38;5;124m\"\u001b[39m\u001b[38;5;124mRohee\u001b[39m\u001b[38;5;124m\"\u001b[39m,image)\n\u001b[0;32m      4\u001b[0m cv2\u001b[38;5;241m.\u001b[39mimshow(\u001b[38;5;124m\"\u001b[39m\u001b[38;5;124mRotated\u001b[39m\u001b[38;5;124m\"\u001b[39m,rot_img)\n",
      "\u001b[1;31merror\u001b[0m: OpenCV(4.11.0) D:\\a\\opencv-python\\opencv-python\\opencv\\modules\\imgproc\\src\\imgwarp.cpp:2819: error: (-215:Assertion failed) (M0.type() == CV_32F || M0.type() == CV_64F) && M0.rows == 2 && M0.cols == 3 in function 'cv::warpAffine'\n"
     ]
    }
   ],
   "source": [
    "rot_img=cv2.rotate(image,cv2.ROTATE_180)\n",
    "r_m=cv2.warpAffine(src=image,M=r_m,dsize=(h,w))\n",
    "cv2.imshow(\"Rohee\",image)\n",
    "cv2.imshow(\"Rotated\",rot_img)\n",
    "cv2.waitKey(0)\n",
    "cv2.destroyAllWindows()"
   ]
  },
  {
   "cell_type": "markdown",
   "id": "630651cb-b978-40e6-a129-34a34f655dd4",
   "metadata": {},
   "source": [
    "## Scaling`"
   ]
  },
  {
   "cell_type": "code",
   "execution_count": 74,
   "id": "11285fb9-2cfb-4c55-a93a-df27d62031e0",
   "metadata": {},
   "outputs": [],
   "source": [
    "tx=0\n",
    "ty=0\n",
    "sx=1\n",
    "sy=2\n",
    "SC=np.array([[sx,0,tx],[0,sy,ty]],dtype=np.float32)"
   ]
  },
  {
   "cell_type": "code",
   "execution_count": 76,
   "id": "611d6b8a-1590-40e4-aee8-7a8c5fc4750b",
   "metadata": {},
   "outputs": [],
   "source": [
    "rotated_image=cv2.warpAffine(src=image,M=SC,dsize=(500,500))\n",
    "cv2.imshow(\"Rohee\",image)\n",
    "cv2.imshow(\"Rotated\",rotated_image)\n",
    "cv2.waitKey(0)\n",
    "cv2.destroyAllWindows()"
   ]
  },
  {
   "cell_type": "code",
   "execution_count": 78,
   "id": "c465561d-10f5-4bda-b81a-90fd15755309",
   "metadata": {},
   "outputs": [],
   "source": [
    "cv2.imshow(\"Rohee\",cv2.resize(image,(500,500)))\n",
    "cv2.waitKey(0)\n",
    "cv2.destroyAllWindows()"
   ]
  },
  {
   "cell_type": "code",
   "execution_count": 80,
   "id": "a4df7431-436e-4bd9-9db3-332b537c2f38",
   "metadata": {},
   "outputs": [],
   "source": [
    "cv2.imshow(\"Rohee\",cv2.resize(image,(100,100)))\n",
    "cv2.waitKey(0)\n",
    "cv2.destroyAllWindows()"
   ]
  },
  {
   "cell_type": "code",
   "execution_count": 82,
   "id": "71f50a79-afae-487f-893e-8c357d68a0cc",
   "metadata": {},
   "outputs": [],
   "source": [
    "cv2.imshow(\"Rohee\",cv2.pyrDown(image))\n",
    "cv2.waitKey(0)\n",
    "cv2.destroyAllWindows()"
   ]
  },
  {
   "cell_type": "code",
   "execution_count": 84,
   "id": "55786e4b-ea22-42d2-9195-7e5b66e9ffb6",
   "metadata": {},
   "outputs": [],
   "source": [
    "cv2.imshow(\"Rohee\",cv2.pyrUp(image))\n",
    "cv2.waitKey(0)\n",
    "cv2.destroyAllWindows()"
   ]
  },
  {
   "cell_type": "markdown",
   "id": "ebb76a7e-441d-4d12-a675-21b76cd3df74",
   "metadata": {},
   "source": [
    "## Shearing"
   ]
  },
  {
   "cell_type": "code",
   "execution_count": 102,
   "id": "a52076e4-c87d-4710-9ba9-0369410291cc",
   "metadata": {},
   "outputs": [
    {
     "data": {
      "text/plain": [
       "array([[1. , 0.5, 0. ],\n",
       "       [0.2, 1. , 0. ]], dtype=float32)"
      ]
     },
     "execution_count": 102,
     "metadata": {},
     "output_type": "execute_result"
    }
   ],
   "source": [
    "tx=0\n",
    "ty=0\n",
    "sx=1\n",
    "sy=1\n",
    "shrx=0.5\n",
    "shry=0.2\n",
    "Shear=np.array([[sx,shrx,tx],[shry,sy,ty]],dtype=np.float32)\n",
    "Shear"
   ]
  },
  {
   "cell_type": "code",
   "execution_count": 109,
   "id": "7d9f0fc8-ed59-45e6-acfd-220838f14a67",
   "metadata": {},
   "outputs": [],
   "source": [
    "sheared_image=cv2.warpAffine(src=image,M=Shear,dsize=(h,w))\n",
    "cv2.imshow(\"Rohee\",image)\n",
    "cv2.imshow(\"sheared\",sheared_image)\n",
    "cv2.waitKey(0)\n",
    "cv2.destroyAllWindows()"
   ]
  },
  {
   "cell_type": "markdown",
   "id": "0dcd9244-4704-497f-a0f5-69f694c4964b",
   "metadata": {},
   "source": [
    "## Cropping"
   ]
  },
  {
   "cell_type": "code",
   "execution_count": 115,
   "id": "ec5cd667-392f-42d6-ad09-245794eed40f",
   "metadata": {},
   "outputs": [],
   "source": [
    "cv2.imshow(\"Rohee\",image)\n",
    "cv2.imshow(\"sheared\",image[32,52:219])\n",
    "cv2.waitKey(0)\n",
    "cv2.destroyAllWindows()"
   ]
  },
  {
   "cell_type": "markdown",
   "id": "6be639be-ede0-482f-a8fb-4f19aba78100",
   "metadata": {},
   "source": [
    "## Contrast/Brightness"
   ]
  },
  {
   "cell_type": "code",
   "execution_count": 119,
   "id": "57ae5e1f-a451-4866-873d-934e54d7edbd",
   "metadata": {},
   "outputs": [
    {
     "data": {
      "text/plain": [
       "(225, 225)"
      ]
     },
     "execution_count": 119,
     "metadata": {},
     "output_type": "execute_result"
    }
   ],
   "source": [
    "image.shape[:2]"
   ]
  },
  {
   "cell_type": "code",
   "execution_count": 123,
   "id": "fd04968e-b75d-4b17-b4f1-9521c8a31639",
   "metadata": {},
   "outputs": [
    {
     "data": {
      "text/plain": [
       "array([[100, 100, 100, ..., 100, 100, 100],\n",
       "       [100, 100, 100, ..., 100, 100, 100],\n",
       "       [100, 100, 100, ..., 100, 100, 100],\n",
       "       ...,\n",
       "       [100, 100, 100, ..., 100, 100, 100],\n",
       "       [100, 100, 100, ..., 100, 100, 100],\n",
       "       [100, 100, 100, ..., 100, 100, 100]])"
      ]
     },
     "execution_count": 123,
     "metadata": {},
     "output_type": "execute_result"
    }
   ],
   "source": [
    "arr=np.full(image.shape[:2],100)\n",
    "arr"
   ]
  },
  {
   "cell_type": "code",
   "execution_count": null,
   "id": "8c71b0d7-aca8-43d8-a038-d457187705c7",
   "metadata": {},
   "outputs": [],
   "source": []
  }
 ],
 "metadata": {
  "kernelspec": {
   "display_name": "Python [conda env:base] *",
   "language": "python",
   "name": "conda-base-py"
  },
  "language_info": {
   "codemirror_mode": {
    "name": "ipython",
    "version": 3
   },
   "file_extension": ".py",
   "mimetype": "text/x-python",
   "name": "python",
   "nbconvert_exporter": "python",
   "pygments_lexer": "ipython3",
   "version": "3.12.7"
  }
 },
 "nbformat": 4,
 "nbformat_minor": 5
}
